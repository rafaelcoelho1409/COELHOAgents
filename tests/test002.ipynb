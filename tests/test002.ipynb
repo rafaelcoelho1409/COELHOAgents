{
 "cells": [
  {
   "cell_type": "code",
   "execution_count": 3,
   "metadata": {},
   "outputs": [],
   "source": [
    "from langchain_community.tools.ddg_search.tool import DuckDuckGoSearchResults"
   ]
  },
  {
   "cell_type": "code",
   "execution_count": 5,
   "metadata": {},
   "outputs": [
    {
     "data": {
      "text/plain": [
       "[{'snippet': 'Trump received slightly more than 77.3 million popular votes — just 1.5 percentage points more than Harris. It is one of the more anemic victories in a half-century and weak even in these hyper ...',\n",
       "  'title': 'How a single state took Harris down and raised the new era of Trump ...',\n",
       "  'link': 'https://www.cnn.com/2025/01/13/politics/american-battleground-trump-2024-victory/index.html'},\n",
       " {'snippet': 'Donald Trump has been given a no-penalty sentence over his hush money conviction - meaning he will not face any jail time. The historic court ruling comes just 10 days before he is due to take ...',\n",
       "  'title': 'Trump sentencing as it happened: US president-elect spared jail or fine ...',\n",
       "  'link': 'https://news.sky.com/story/trump-sentencing-latest-us-president-elect-to-learn-fate-as-judge-delivers-ruling-over-hush-money-conviction-13286541'},\n",
       " {'snippet': 'Trump made his belief that he is the victim of political persecution a centerpiece of his campaign, and he frequently promised \"retribution\" for his enemies.',\n",
       "  'title': \"Trump won the presidency. Here's what he's said he'll do. - NBC News\",\n",
       "  'link': 'https://www.nbcnews.com/politics/2024-election/trump-won-presidency-said-rcna178837'},\n",
       " {'snippet': 'Trump vowed to launch a mass deportation effort, implement tariffs and pardon many convicted in the Jan. 6 U.S. Capitol attack in an interview with \"Meet the Press\" moderator Kristen Welker.',\n",
       "  'title': \"Trump details sweeping changes he'll carry out on day one and beyond in ...\",\n",
       "  'link': 'https://www.nbcnews.com/politics/donald-trump/trump-details-sweeping-changes-ll-carry-day-one-exclusive-interview-rcna182858'}]"
      ]
     },
     "execution_count": 5,
     "metadata": {},
     "output_type": "execute_result"
    }
   ],
   "source": [
    "tool = DuckDuckGoSearchResults(output_format = \"list\")\n",
    "\n",
    "tool.invoke(\"Trump\")"
   ]
  },
  {
   "cell_type": "code",
   "execution_count": 6,
   "metadata": {},
   "outputs": [],
   "source": [
    "from typing_extensions import TypedDict\n",
    "class State(TypedDict):\n",
    "    messages: str"
   ]
  },
  {
   "cell_type": "code",
   "execution_count": 7,
   "metadata": {},
   "outputs": [
    {
     "data": {
      "text/plain": [
       "{'messages': 'Hello!'}"
      ]
     },
     "execution_count": 7,
     "metadata": {},
     "output_type": "execute_result"
    }
   ],
   "source": [
    "State(messages = \"Hello!\")"
   ]
  },
  {
   "cell_type": "code",
   "execution_count": null,
   "metadata": {},
   "outputs": [],
   "source": []
  }
 ],
 "metadata": {
  "kernelspec": {
   "display_name": ".venv",
   "language": "python",
   "name": "python3"
  },
  "language_info": {
   "codemirror_mode": {
    "name": "ipython",
    "version": 3
   },
   "file_extension": ".py",
   "mimetype": "text/x-python",
   "name": "python",
   "nbconvert_exporter": "python",
   "pygments_lexer": "ipython3",
   "version": "3.12.3"
  }
 },
 "nbformat": 4,
 "nbformat_minor": 2
}
